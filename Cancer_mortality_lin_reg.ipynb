{
 "cells": [
  {
   "cell_type": "code",
   "execution_count": 1,
   "metadata": {},
   "outputs": [],
   "source": [
    "import pandas as pd\n",
    "import numpy as np\n",
    "import matplotlib.pyplot as plt\n",
    "import os\n",
    "import seaborn as sns\n",
    "from sklearn.metrics import mean_squared_error\n",
    "from sklearn.metrics import r2_score"
   ]
  },
  {
   "cell_type": "markdown",
   "metadata": {},
   "source": [
    "The goal of this notebook is to write algorithms for different linear regressions   \n",
    "1. Linear Regression - OLS\n",
    "2. Ridge Regression\n",
    "3. Lasso Regression"
   ]
  },
  {
   "cell_type": "markdown",
   "metadata": {},
   "source": [
    "Goal: Build a multiple linear regression model to predict the target_deathrate  \n",
    "Implement k-fold (k=10) cross validation  \n",
    "Data Description: https://data.world/nrippner/cancer-trials  \n"
   ]
  },
  {
   "cell_type": "code",
   "execution_count": 2,
   "metadata": {},
   "outputs": [],
   "source": [
    "os.chdir('c:/Users/Siddharth/Desktop/python/exercises-linear-regression-exercise-1/')"
   ]
  },
  {
   "cell_type": "code",
   "execution_count": 3,
   "metadata": {},
   "outputs": [
    {
     "data": {
      "text/plain": [
       "['data', 'datapackage.json', 'original']"
      ]
     },
     "execution_count": 3,
     "metadata": {},
     "output_type": "execute_result"
    }
   ],
   "source": [
    "os.listdir()"
   ]
  },
  {
   "cell_type": "code",
   "execution_count": 4,
   "metadata": {},
   "outputs": [],
   "source": [
    "file = open('datapackage.json')\n",
    "z = file.readline()"
   ]
  },
  {
   "cell_type": "code",
   "execution_count": 5,
   "metadata": {},
   "outputs": [],
   "source": [
    "dat_2 = pd.read_csv('data/cancer_reg.csv')"
   ]
  },
  {
   "cell_type": "code",
   "execution_count": 6,
   "metadata": {},
   "outputs": [
    {
     "data": {
      "text/html": [
       "<div>\n",
       "<style scoped>\n",
       "    .dataframe tbody tr th:only-of-type {\n",
       "        vertical-align: middle;\n",
       "    }\n",
       "\n",
       "    .dataframe tbody tr th {\n",
       "        vertical-align: top;\n",
       "    }\n",
       "\n",
       "    .dataframe thead th {\n",
       "        text-align: right;\n",
       "    }\n",
       "</style>\n",
       "<table border=\"1\" class=\"dataframe\">\n",
       "  <thead>\n",
       "    <tr style=\"text-align: right;\">\n",
       "      <th></th>\n",
       "      <th>avganncount</th>\n",
       "      <th>avgdeathsperyear</th>\n",
       "      <th>target_deathrate</th>\n",
       "      <th>incidencerate</th>\n",
       "      <th>medincome</th>\n",
       "      <th>popest2015</th>\n",
       "      <th>povertypercent</th>\n",
       "      <th>studypercap</th>\n",
       "      <th>binnedinc</th>\n",
       "      <th>medianage</th>\n",
       "      <th>...</th>\n",
       "      <th>pctprivatecoveragealone</th>\n",
       "      <th>pctempprivcoverage</th>\n",
       "      <th>pctpubliccoverage</th>\n",
       "      <th>pctpubliccoveragealone</th>\n",
       "      <th>pctwhite</th>\n",
       "      <th>pctblack</th>\n",
       "      <th>pctasian</th>\n",
       "      <th>pctotherrace</th>\n",
       "      <th>pctmarriedhouseholds</th>\n",
       "      <th>birthrate</th>\n",
       "    </tr>\n",
       "  </thead>\n",
       "  <tbody>\n",
       "    <tr>\n",
       "      <th>0</th>\n",
       "      <td>1397.000000</td>\n",
       "      <td>469</td>\n",
       "      <td>164.9</td>\n",
       "      <td>489.800000</td>\n",
       "      <td>61898</td>\n",
       "      <td>260131</td>\n",
       "      <td>11.2</td>\n",
       "      <td>499.748204</td>\n",
       "      <td>(61494.5, 125635]</td>\n",
       "      <td>39.3</td>\n",
       "      <td>...</td>\n",
       "      <td>NaN</td>\n",
       "      <td>41.6</td>\n",
       "      <td>32.9</td>\n",
       "      <td>14.0</td>\n",
       "      <td>81.780529</td>\n",
       "      <td>2.594728</td>\n",
       "      <td>4.821857</td>\n",
       "      <td>1.843479</td>\n",
       "      <td>52.856076</td>\n",
       "      <td>6.118831</td>\n",
       "    </tr>\n",
       "    <tr>\n",
       "      <th>1</th>\n",
       "      <td>173.000000</td>\n",
       "      <td>70</td>\n",
       "      <td>161.3</td>\n",
       "      <td>411.600000</td>\n",
       "      <td>48127</td>\n",
       "      <td>43269</td>\n",
       "      <td>18.6</td>\n",
       "      <td>23.111234</td>\n",
       "      <td>(48021.6, 51046.4]</td>\n",
       "      <td>33.0</td>\n",
       "      <td>...</td>\n",
       "      <td>53.8</td>\n",
       "      <td>43.6</td>\n",
       "      <td>31.1</td>\n",
       "      <td>15.3</td>\n",
       "      <td>89.228509</td>\n",
       "      <td>0.969102</td>\n",
       "      <td>2.246233</td>\n",
       "      <td>3.741352</td>\n",
       "      <td>45.372500</td>\n",
       "      <td>4.333096</td>\n",
       "    </tr>\n",
       "    <tr>\n",
       "      <th>2</th>\n",
       "      <td>102.000000</td>\n",
       "      <td>50</td>\n",
       "      <td>174.7</td>\n",
       "      <td>349.700000</td>\n",
       "      <td>49348</td>\n",
       "      <td>21026</td>\n",
       "      <td>14.6</td>\n",
       "      <td>47.560164</td>\n",
       "      <td>(48021.6, 51046.4]</td>\n",
       "      <td>45.0</td>\n",
       "      <td>...</td>\n",
       "      <td>43.5</td>\n",
       "      <td>34.9</td>\n",
       "      <td>42.1</td>\n",
       "      <td>21.1</td>\n",
       "      <td>90.922190</td>\n",
       "      <td>0.739673</td>\n",
       "      <td>0.465898</td>\n",
       "      <td>2.747358</td>\n",
       "      <td>54.444868</td>\n",
       "      <td>3.729488</td>\n",
       "    </tr>\n",
       "    <tr>\n",
       "      <th>3</th>\n",
       "      <td>427.000000</td>\n",
       "      <td>202</td>\n",
       "      <td>194.8</td>\n",
       "      <td>430.400000</td>\n",
       "      <td>44243</td>\n",
       "      <td>75882</td>\n",
       "      <td>17.1</td>\n",
       "      <td>342.637253</td>\n",
       "      <td>(42724.4, 45201]</td>\n",
       "      <td>42.8</td>\n",
       "      <td>...</td>\n",
       "      <td>40.3</td>\n",
       "      <td>35.0</td>\n",
       "      <td>45.3</td>\n",
       "      <td>25.0</td>\n",
       "      <td>91.744686</td>\n",
       "      <td>0.782626</td>\n",
       "      <td>1.161359</td>\n",
       "      <td>1.362643</td>\n",
       "      <td>51.021514</td>\n",
       "      <td>4.603841</td>\n",
       "    </tr>\n",
       "    <tr>\n",
       "      <th>4</th>\n",
       "      <td>57.000000</td>\n",
       "      <td>26</td>\n",
       "      <td>144.4</td>\n",
       "      <td>350.100000</td>\n",
       "      <td>49955</td>\n",
       "      <td>10321</td>\n",
       "      <td>12.5</td>\n",
       "      <td>0.000000</td>\n",
       "      <td>(48021.6, 51046.4]</td>\n",
       "      <td>48.3</td>\n",
       "      <td>...</td>\n",
       "      <td>43.9</td>\n",
       "      <td>35.1</td>\n",
       "      <td>44.0</td>\n",
       "      <td>22.7</td>\n",
       "      <td>94.104024</td>\n",
       "      <td>0.270192</td>\n",
       "      <td>0.665830</td>\n",
       "      <td>0.492135</td>\n",
       "      <td>54.027460</td>\n",
       "      <td>6.796657</td>\n",
       "    </tr>\n",
       "    <tr>\n",
       "      <th>...</th>\n",
       "      <td>...</td>\n",
       "      <td>...</td>\n",
       "      <td>...</td>\n",
       "      <td>...</td>\n",
       "      <td>...</td>\n",
       "      <td>...</td>\n",
       "      <td>...</td>\n",
       "      <td>...</td>\n",
       "      <td>...</td>\n",
       "      <td>...</td>\n",
       "      <td>...</td>\n",
       "      <td>...</td>\n",
       "      <td>...</td>\n",
       "      <td>...</td>\n",
       "      <td>...</td>\n",
       "      <td>...</td>\n",
       "      <td>...</td>\n",
       "      <td>...</td>\n",
       "      <td>...</td>\n",
       "      <td>...</td>\n",
       "      <td>...</td>\n",
       "    </tr>\n",
       "    <tr>\n",
       "      <th>3042</th>\n",
       "      <td>1962.667684</td>\n",
       "      <td>15</td>\n",
       "      <td>149.6</td>\n",
       "      <td>453.549422</td>\n",
       "      <td>46961</td>\n",
       "      <td>6343</td>\n",
       "      <td>12.4</td>\n",
       "      <td>0.000000</td>\n",
       "      <td>(45201, 48021.6]</td>\n",
       "      <td>44.2</td>\n",
       "      <td>...</td>\n",
       "      <td>54.9</td>\n",
       "      <td>44.6</td>\n",
       "      <td>31.7</td>\n",
       "      <td>13.2</td>\n",
       "      <td>90.280811</td>\n",
       "      <td>3.837754</td>\n",
       "      <td>0.327613</td>\n",
       "      <td>1.700468</td>\n",
       "      <td>51.063830</td>\n",
       "      <td>7.773512</td>\n",
       "    </tr>\n",
       "    <tr>\n",
       "      <th>3043</th>\n",
       "      <td>1962.667684</td>\n",
       "      <td>43</td>\n",
       "      <td>150.1</td>\n",
       "      <td>453.549422</td>\n",
       "      <td>48609</td>\n",
       "      <td>37118</td>\n",
       "      <td>18.8</td>\n",
       "      <td>377.175494</td>\n",
       "      <td>(48021.6, 51046.4]</td>\n",
       "      <td>30.4</td>\n",
       "      <td>...</td>\n",
       "      <td>53.3</td>\n",
       "      <td>48.6</td>\n",
       "      <td>28.8</td>\n",
       "      <td>17.7</td>\n",
       "      <td>75.706245</td>\n",
       "      <td>2.326771</td>\n",
       "      <td>4.044920</td>\n",
       "      <td>14.130288</td>\n",
       "      <td>52.007937</td>\n",
       "      <td>8.186470</td>\n",
       "    </tr>\n",
       "    <tr>\n",
       "      <th>3044</th>\n",
       "      <td>1962.667684</td>\n",
       "      <td>46</td>\n",
       "      <td>153.9</td>\n",
       "      <td>453.549422</td>\n",
       "      <td>51144</td>\n",
       "      <td>34536</td>\n",
       "      <td>15.0</td>\n",
       "      <td>1968.959926</td>\n",
       "      <td>(51046.4, 54545.6]</td>\n",
       "      <td>30.9</td>\n",
       "      <td>...</td>\n",
       "      <td>52.6</td>\n",
       "      <td>47.8</td>\n",
       "      <td>26.6</td>\n",
       "      <td>16.8</td>\n",
       "      <td>87.961629</td>\n",
       "      <td>2.313188</td>\n",
       "      <td>1.316472</td>\n",
       "      <td>5.680705</td>\n",
       "      <td>55.153949</td>\n",
       "      <td>7.809192</td>\n",
       "    </tr>\n",
       "    <tr>\n",
       "      <th>3045</th>\n",
       "      <td>1962.667684</td>\n",
       "      <td>52</td>\n",
       "      <td>175.0</td>\n",
       "      <td>453.549422</td>\n",
       "      <td>50745</td>\n",
       "      <td>25609</td>\n",
       "      <td>13.3</td>\n",
       "      <td>0.000000</td>\n",
       "      <td>(48021.6, 51046.4]</td>\n",
       "      <td>39.0</td>\n",
       "      <td>...</td>\n",
       "      <td>56.3</td>\n",
       "      <td>49.6</td>\n",
       "      <td>29.5</td>\n",
       "      <td>14.0</td>\n",
       "      <td>92.905681</td>\n",
       "      <td>1.176562</td>\n",
       "      <td>0.244632</td>\n",
       "      <td>2.131790</td>\n",
       "      <td>58.484232</td>\n",
       "      <td>7.582938</td>\n",
       "    </tr>\n",
       "    <tr>\n",
       "      <th>3046</th>\n",
       "      <td>1962.667684</td>\n",
       "      <td>48</td>\n",
       "      <td>213.6</td>\n",
       "      <td>453.549422</td>\n",
       "      <td>41193</td>\n",
       "      <td>37030</td>\n",
       "      <td>13.9</td>\n",
       "      <td>0.000000</td>\n",
       "      <td>(40362.7, 42724.4]</td>\n",
       "      <td>26.2</td>\n",
       "      <td>...</td>\n",
       "      <td>60.3</td>\n",
       "      <td>22.9</td>\n",
       "      <td>25.1</td>\n",
       "      <td>12.6</td>\n",
       "      <td>70.098132</td>\n",
       "      <td>16.590100</td>\n",
       "      <td>3.177753</td>\n",
       "      <td>1.356457</td>\n",
       "      <td>56.040242</td>\n",
       "      <td>8.981723</td>\n",
       "    </tr>\n",
       "  </tbody>\n",
       "</table>\n",
       "<p>3047 rows × 33 columns</p>\n",
       "</div>"
      ],
      "text/plain": [
       "      avganncount  avgdeathsperyear  target_deathrate  incidencerate  \\\n",
       "0     1397.000000               469             164.9     489.800000   \n",
       "1      173.000000                70             161.3     411.600000   \n",
       "2      102.000000                50             174.7     349.700000   \n",
       "3      427.000000               202             194.8     430.400000   \n",
       "4       57.000000                26             144.4     350.100000   \n",
       "...           ...               ...               ...            ...   \n",
       "3042  1962.667684                15             149.6     453.549422   \n",
       "3043  1962.667684                43             150.1     453.549422   \n",
       "3044  1962.667684                46             153.9     453.549422   \n",
       "3045  1962.667684                52             175.0     453.549422   \n",
       "3046  1962.667684                48             213.6     453.549422   \n",
       "\n",
       "      medincome  popest2015  povertypercent  studypercap           binnedinc  \\\n",
       "0         61898      260131            11.2   499.748204   (61494.5, 125635]   \n",
       "1         48127       43269            18.6    23.111234  (48021.6, 51046.4]   \n",
       "2         49348       21026            14.6    47.560164  (48021.6, 51046.4]   \n",
       "3         44243       75882            17.1   342.637253    (42724.4, 45201]   \n",
       "4         49955       10321            12.5     0.000000  (48021.6, 51046.4]   \n",
       "...         ...         ...             ...          ...                 ...   \n",
       "3042      46961        6343            12.4     0.000000    (45201, 48021.6]   \n",
       "3043      48609       37118            18.8   377.175494  (48021.6, 51046.4]   \n",
       "3044      51144       34536            15.0  1968.959926  (51046.4, 54545.6]   \n",
       "3045      50745       25609            13.3     0.000000  (48021.6, 51046.4]   \n",
       "3046      41193       37030            13.9     0.000000  (40362.7, 42724.4]   \n",
       "\n",
       "      medianage  ...  pctprivatecoveragealone  pctempprivcoverage  \\\n",
       "0          39.3  ...                      NaN                41.6   \n",
       "1          33.0  ...                     53.8                43.6   \n",
       "2          45.0  ...                     43.5                34.9   \n",
       "3          42.8  ...                     40.3                35.0   \n",
       "4          48.3  ...                     43.9                35.1   \n",
       "...         ...  ...                      ...                 ...   \n",
       "3042       44.2  ...                     54.9                44.6   \n",
       "3043       30.4  ...                     53.3                48.6   \n",
       "3044       30.9  ...                     52.6                47.8   \n",
       "3045       39.0  ...                     56.3                49.6   \n",
       "3046       26.2  ...                     60.3                22.9   \n",
       "\n",
       "     pctpubliccoverage  pctpubliccoveragealone   pctwhite   pctblack  \\\n",
       "0                 32.9                    14.0  81.780529   2.594728   \n",
       "1                 31.1                    15.3  89.228509   0.969102   \n",
       "2                 42.1                    21.1  90.922190   0.739673   \n",
       "3                 45.3                    25.0  91.744686   0.782626   \n",
       "4                 44.0                    22.7  94.104024   0.270192   \n",
       "...                ...                     ...        ...        ...   \n",
       "3042              31.7                    13.2  90.280811   3.837754   \n",
       "3043              28.8                    17.7  75.706245   2.326771   \n",
       "3044              26.6                    16.8  87.961629   2.313188   \n",
       "3045              29.5                    14.0  92.905681   1.176562   \n",
       "3046              25.1                    12.6  70.098132  16.590100   \n",
       "\n",
       "      pctasian  pctotherrace  pctmarriedhouseholds  birthrate  \n",
       "0     4.821857      1.843479             52.856076   6.118831  \n",
       "1     2.246233      3.741352             45.372500   4.333096  \n",
       "2     0.465898      2.747358             54.444868   3.729488  \n",
       "3     1.161359      1.362643             51.021514   4.603841  \n",
       "4     0.665830      0.492135             54.027460   6.796657  \n",
       "...        ...           ...                   ...        ...  \n",
       "3042  0.327613      1.700468             51.063830   7.773512  \n",
       "3043  4.044920     14.130288             52.007937   8.186470  \n",
       "3044  1.316472      5.680705             55.153949   7.809192  \n",
       "3045  0.244632      2.131790             58.484232   7.582938  \n",
       "3046  3.177753      1.356457             56.040242   8.981723  \n",
       "\n",
       "[3047 rows x 33 columns]"
      ]
     },
     "execution_count": 6,
     "metadata": {},
     "output_type": "execute_result"
    }
   ],
   "source": [
    "dat_2"
   ]
  },
  {
   "cell_type": "code",
   "execution_count": 7,
   "metadata": {},
   "outputs": [],
   "source": [
    "# train-test 80:10 split\n",
    "# dropping irrelevant columns\n",
    "l = len(dat_2)\n",
    "dat_3 = dat_2.drop(columns=[\n",
    "    'pctotherrace', 'pctmarriedhouseholds', 'pctprivatecoverage',\n",
    "    'pctbachdeg25_over', 'binnedinc', 'geography', 'pctblack', 'pctwhite',\n",
    "    'pctasian', 'pctsomecol18_24',\n",
    "    'pctemployed16_over', 'pctprivatecoveragealone', 'percentmarried',\n",
    "    'pcths25_over', 'pcths18_24', 'birthrate', 'medianage'\n",
    "])\n",
    "dat_3['avgdeathsperyear'] = dat_3['avgdeathsperyear']/dat_3['popest2015']\n",
    "dat_3['avganncount'] = dat_3['avganncount']/dat_3['popest2015']\n",
    "train = dat_3.iloc[:int(l * 0.80)]\n",
    "test = dat_3.iloc[int(l * 0.80):]\n",
    "train_y = train['target_deathrate']\n",
    "train_x = train.drop(columns=[\n",
    "    'target_deathrate'\n",
    "],\n",
    "                     axis=1)\n",
    "test_y = test['target_deathrate']\n",
    "test_x = test.drop(columns=[\n",
    "    'target_deathrate'\n",
    "],\n",
    "                   axis=1)"
   ]
  },
  {
   "cell_type": "code",
   "execution_count": 8,
   "metadata": {
    "scrolled": false
   },
   "outputs": [
    {
     "data": {
      "text/plain": [
       "avganncount               0\n",
       "avgdeathsperyear          0\n",
       "incidencerate             0\n",
       "medincome                 0\n",
       "popest2015                0\n",
       "povertypercent            0\n",
       "studypercap               0\n",
       "medianagemale             0\n",
       "medianagefemale           0\n",
       "pctnohs18_24              0\n",
       "pctbachdeg18_24           0\n",
       "pctunemployed16_over      0\n",
       "pctempprivcoverage        0\n",
       "pctpubliccoverage         0\n",
       "pctpubliccoveragealone    0\n",
       "dtype: int64"
      ]
     },
     "execution_count": 8,
     "metadata": {},
     "output_type": "execute_result"
    }
   ],
   "source": [
    "# remove nans\n",
    "train_x.isna().sum()"
   ]
  },
  {
   "cell_type": "code",
   "execution_count": 9,
   "metadata": {},
   "outputs": [],
   "source": [
    "from sklearn import linear_model"
   ]
  },
  {
   "cell_type": "code",
   "execution_count": 60,
   "metadata": {},
   "outputs": [
    {
     "name": "stdout",
     "output_type": "stream",
     "text": [
      "RMSE is 15.717912765641126 for linear regression\n",
      "R-squared is 0.7086719312805556 for linear regression\n"
     ]
    }
   ],
   "source": [
    "# OLS\n",
    "\n",
    "model = linear_model.LinearRegression()\n",
    "model.fit(train_x, train_y)\n",
    "predicted_values = model.predict(test_x)\n",
    "rmse = np.sqrt(mean_squared_error(test_y, predicted_values))\n",
    "print(f'RMSE is {rmse} for linear regression')\n",
    "print(f'R-squared is {r2_score(test_y, predicted_values)} for linear regression')"
   ]
  },
  {
   "cell_type": "code",
   "execution_count": 10,
   "metadata": {},
   "outputs": [
    {
     "name": "stdout",
     "output_type": "stream",
     "text": [
      "RMSE is 15.156061764518217 for linear regression\n",
      "R-squared is 0.7291272514807522 for linear regression\n"
     ]
    }
   ],
   "source": [
    "# OLS on complete dataset\n",
    "model = linear_model.LinearRegression()\n",
    "model.fit(dat_3.drop(columns=['target_deathrate']), dat_3['target_deathrate'])\n",
    "predicted_values = model.predict(test_x)\n",
    "rmse = np.sqrt(mean_squared_error(test_y, predicted_values))\n",
    "print(f'RMSE is {rmse} for linear regression')\n",
    "print(f'R-squared is {r2_score(test_y, predicted_values)} for linear regression')"
   ]
  },
  {
   "cell_type": "code",
   "execution_count": 11,
   "metadata": {},
   "outputs": [
    {
     "name": "stdout",
     "output_type": "stream",
     "text": [
      "RMSE is 21.19537 for Ridge regression\n",
      "R-squared is 0.470245 for Ridge regression\n"
     ]
    }
   ],
   "source": [
    "# Ridge Regression\n",
    "\n",
    "model = linear_model.Ridge(alpha=1)\n",
    "model.fit(train_x, train_y)\n",
    "predicted_values = model.predict(test_x)\n",
    "rmse = np.sqrt(mean_squared_error(test_y, predicted_values))\n",
    "print(f'RMSE is {np.round(rmse, decimals=5)} for Ridge regression')\n",
    "print(f'R-squared is {np.round(model.score(test_x,test_y), decimals=6)} for Ridge regression')"
   ]
  },
  {
   "cell_type": "code",
   "execution_count": 12,
   "metadata": {
    "code_folding": []
   },
   "outputs": [
    {
     "name": "stdout",
     "output_type": "stream",
     "text": [
      "RMSE is 1.9279902637578957e+19 for linear regression-SGD\n",
      "R-squared is -4.383310687778616e+35 for linear regression-SGD\n"
     ]
    }
   ],
   "source": [
    "# SGD\n",
    "\n",
    "# model = linear_model.lasso_path(train_x, train_y)\n",
    "model = linear_model.SGDRegressor(early_stopping=True)\n",
    "model.fit(train_x, train_y)\n",
    "predicted_values = model.predict(test_x)\n",
    "rmse = np.sqrt(mean_squared_error(test_y, predicted_values))\n",
    "print(f'RMSE is {rmse} for linear regression-SGD')\n",
    "print(f'R-squared is {np.round(model.score(test_x,test_y), decimals=6)} for linear regression-SGD')"
   ]
  },
  {
   "cell_type": "code",
   "execution_count": 13,
   "metadata": {},
   "outputs": [
    {
     "name": "stdout",
     "output_type": "stream",
     "text": [
      "RMSE is 21.17578107144584 for linear regression\n",
      "R-squared is 0.4712243373006888 for Bayesian Ridge regression\n"
     ]
    }
   ],
   "source": [
    "# Bayesian Ridge\n",
    "\n",
    "model = linear_model.BayesianRidge()\n",
    "model.fit(train_x, train_y)\n",
    "predicted_values = model.predict(test_x)\n",
    "rmse = np.sqrt(mean_squared_error(test_y, predicted_values))\n",
    "print(f'RMSE is {rmse} for linear regression')\n",
    "print(f'R-squared is {r2_score(test_y, predicted_values)} for Bayesian Ridge regression')"
   ]
  },
  {
   "cell_type": "code",
   "execution_count": 14,
   "metadata": {},
   "outputs": [
    {
     "name": "stdout",
     "output_type": "stream",
     "text": [
      "RMSE is 21.170360199311524 for linear regression\n",
      "R-squared is 0.4714950294042556 for Lasso regression\n"
     ]
    }
   ],
   "source": [
    "# Lasso\n",
    "\n",
    "model = linear_model.Lasso(alpha=0.4)\n",
    "model.fit(train_x, train_y)\n",
    "predicted_values = model.predict(test_x)\n",
    "rmse = np.sqrt(mean_squared_error(test_y, predicted_values))\n",
    "print(f'RMSE is {rmse} for linear regression')\n",
    "print(f'R-squared is {r2_score(test_y, predicted_values)} for Lasso regression')"
   ]
  },
  {
   "cell_type": "code",
   "execution_count": 15,
   "metadata": {},
   "outputs": [
    {
     "name": "stdout",
     "output_type": "stream",
     "text": [
      "RMSE is 24.389200060419824 for linear regression\n",
      "R-squared is 0.2985645776246345 for RidgeCV regression\n"
     ]
    },
    {
     "data": {
      "text/plain": [
       "RidgeCV(alphas=array([ 0.1,  1. , 10. ]))"
      ]
     },
     "execution_count": 15,
     "metadata": {},
     "output_type": "execute_result"
    }
   ],
   "source": [
    "# Ridge CV\n",
    "\n",
    "model = linear_model.RidgeCV()\n",
    "model.fit(train_x, train_y)\n",
    "predicted_values = model.predict(test_x)\n",
    "rmse = np.sqrt(mean_squared_error(test_y, predicted_values))\n",
    "print(f'RMSE is {rmse} for linear regression')\n",
    "print(f'R-squared is {r2_score(test_y, predicted_values)} for RidgeCV regression')\n",
    "model"
   ]
  },
  {
   "cell_type": "code",
   "execution_count": 40,
   "metadata": {
    "scrolled": false
   },
   "outputs": [
    {
     "data": {
      "text/html": [
       "<table class=\"simpletable\">\n",
       "<caption>OLS Regression Results</caption>\n",
       "<tr>\n",
       "  <th>Dep. Variable:</th>    <td>target_deathrate</td> <th>  R-squared (uncentered):</th>      <td>   0.993</td> \n",
       "</tr>\n",
       "<tr>\n",
       "  <th>Model:</th>                   <td>OLS</td>       <th>  Adj. R-squared (uncentered):</th> <td>   0.993</td> \n",
       "</tr>\n",
       "<tr>\n",
       "  <th>Method:</th>             <td>Least Squares</td>  <th>  F-statistic:       </th>          <td>3.368e+04</td>\n",
       "</tr>\n",
       "<tr>\n",
       "  <th>Date:</th>             <td>Sun, 22 Aug 2021</td> <th>  Prob (F-statistic):</th>           <td>  0.00</td>  \n",
       "</tr>\n",
       "<tr>\n",
       "  <th>Time:</th>                 <td>19:06:02</td>     <th>  Log-Likelihood:    </th>          <td> -12575.</td> \n",
       "</tr>\n",
       "<tr>\n",
       "  <th>No. Observations:</th>      <td>  3047</td>      <th>  AIC:               </th>          <td>2.518e+04</td>\n",
       "</tr>\n",
       "<tr>\n",
       "  <th>Df Residuals:</th>          <td>  3034</td>      <th>  BIC:               </th>          <td>2.525e+04</td>\n",
       "</tr>\n",
       "<tr>\n",
       "  <th>Df Model:</th>              <td>    13</td>      <th>                     </th>              <td> </td>    \n",
       "</tr>\n",
       "<tr>\n",
       "  <th>Covariance Type:</th>      <td>nonrobust</td>    <th>                     </th>              <td> </td>    \n",
       "</tr>\n",
       "</table>\n",
       "<table class=\"simpletable\">\n",
       "<tr>\n",
       "             <td></td>               <th>coef</th>     <th>std err</th>      <th>t</th>      <th>P>|t|</th>  <th>[0.025</th>    <th>0.975]</th>  \n",
       "</tr>\n",
       "<tr>\n",
       "  <th>avganncount</th>            <td>  -18.3324</td> <td>    2.702</td> <td>   -6.785</td> <td> 0.000</td> <td>  -23.630</td> <td>  -13.035</td>\n",
       "</tr>\n",
       "<tr>\n",
       "  <th>avgdeathsperyear</th>       <td> 4.216e+04</td> <td>  783.596</td> <td>   53.808</td> <td> 0.000</td> <td> 4.06e+04</td> <td> 4.37e+04</td>\n",
       "</tr>\n",
       "<tr>\n",
       "  <th>incidencerate</th>          <td>    0.1290</td> <td>    0.005</td> <td>   23.483</td> <td> 0.000</td> <td>    0.118</td> <td>    0.140</td>\n",
       "</tr>\n",
       "<tr>\n",
       "  <th>medincome</th>              <td>    0.0004</td> <td> 4.07e-05</td> <td>    9.957</td> <td> 0.000</td> <td>    0.000</td> <td>    0.000</td>\n",
       "</tr>\n",
       "<tr>\n",
       "  <th>popest2015</th>             <td>-4.687e-06</td> <td> 8.98e-07</td> <td>   -5.218</td> <td> 0.000</td> <td>-6.45e-06</td> <td>-2.93e-06</td>\n",
       "</tr>\n",
       "<tr>\n",
       "  <th>povertypercent</th>         <td>    1.5362</td> <td>    0.082</td> <td>   18.736</td> <td> 0.000</td> <td>    1.375</td> <td>    1.697</td>\n",
       "</tr>\n",
       "<tr>\n",
       "  <th>studypercap</th>            <td>   -0.0014</td> <td>    0.001</td> <td>   -2.619</td> <td> 0.009</td> <td>   -0.002</td> <td>   -0.000</td>\n",
       "</tr>\n",
       "<tr>\n",
       "  <th>pctnohs18_24</th>           <td>    0.0313</td> <td>    0.038</td> <td>    0.821</td> <td> 0.412</td> <td>   -0.043</td> <td>    0.106</td>\n",
       "</tr>\n",
       "<tr>\n",
       "  <th>pctbachdeg18_24</th>        <td>   -0.5964</td> <td>    0.074</td> <td>   -8.020</td> <td> 0.000</td> <td>   -0.742</td> <td>   -0.451</td>\n",
       "</tr>\n",
       "<tr>\n",
       "  <th>pctunemployed16_over</th>   <td>    1.3693</td> <td>    0.114</td> <td>   11.980</td> <td> 0.000</td> <td>    1.145</td> <td>    1.593</td>\n",
       "</tr>\n",
       "<tr>\n",
       "  <th>pctempprivcoverage</th>     <td>    0.5955</td> <td>    0.048</td> <td>   12.281</td> <td> 0.000</td> <td>    0.500</td> <td>    0.691</td>\n",
       "</tr>\n",
       "<tr>\n",
       "  <th>pctpubliccoverage</th>      <td>   -3.3927</td> <td>    0.101</td> <td>  -33.628</td> <td> 0.000</td> <td>   -3.591</td> <td>   -3.195</td>\n",
       "</tr>\n",
       "<tr>\n",
       "  <th>pctpubliccoveragealone</th> <td>    3.7012</td> <td>    0.131</td> <td>   28.273</td> <td> 0.000</td> <td>    3.445</td> <td>    3.958</td>\n",
       "</tr>\n",
       "</table>\n",
       "<table class=\"simpletable\">\n",
       "<tr>\n",
       "  <th>Omnibus:</th>       <td>270.546</td> <th>  Durbin-Watson:     </th> <td>   1.675</td> \n",
       "</tr>\n",
       "<tr>\n",
       "  <th>Prob(Omnibus):</th> <td> 0.000</td>  <th>  Jarque-Bera (JB):  </th> <td>1113.438</td> \n",
       "</tr>\n",
       "<tr>\n",
       "  <th>Skew:</th>          <td> 0.352</td>  <th>  Prob(JB):          </th> <td>1.66e-242</td>\n",
       "</tr>\n",
       "<tr>\n",
       "  <th>Kurtosis:</th>      <td> 5.877</td>  <th>  Cond. No.          </th> <td>9.93e+08</td> \n",
       "</tr>\n",
       "</table><br/><br/>Warnings:<br/>[1] Standard Errors assume that the covariance matrix of the errors is correctly specified.<br/>[2] The condition number is large, 9.93e+08. This might indicate that there are<br/>strong multicollinearity or other numerical problems."
      ],
      "text/plain": [
       "<class 'statsmodels.iolib.summary.Summary'>\n",
       "\"\"\"\n",
       "                                 OLS Regression Results                                \n",
       "=======================================================================================\n",
       "Dep. Variable:       target_deathrate   R-squared (uncentered):                   0.993\n",
       "Model:                            OLS   Adj. R-squared (uncentered):              0.993\n",
       "Method:                 Least Squares   F-statistic:                          3.368e+04\n",
       "Date:                Sun, 22 Aug 2021   Prob (F-statistic):                        0.00\n",
       "Time:                        19:06:02   Log-Likelihood:                         -12575.\n",
       "No. Observations:                3047   AIC:                                  2.518e+04\n",
       "Df Residuals:                    3034   BIC:                                  2.525e+04\n",
       "Df Model:                          13                                                  \n",
       "Covariance Type:            nonrobust                                                  \n",
       "==========================================================================================\n",
       "                             coef    std err          t      P>|t|      [0.025      0.975]\n",
       "------------------------------------------------------------------------------------------\n",
       "avganncount              -18.3324      2.702     -6.785      0.000     -23.630     -13.035\n",
       "avgdeathsperyear        4.216e+04    783.596     53.808      0.000    4.06e+04    4.37e+04\n",
       "incidencerate              0.1290      0.005     23.483      0.000       0.118       0.140\n",
       "medincome                  0.0004   4.07e-05      9.957      0.000       0.000       0.000\n",
       "popest2015             -4.687e-06   8.98e-07     -5.218      0.000   -6.45e-06   -2.93e-06\n",
       "povertypercent             1.5362      0.082     18.736      0.000       1.375       1.697\n",
       "studypercap               -0.0014      0.001     -2.619      0.009      -0.002      -0.000\n",
       "pctnohs18_24               0.0313      0.038      0.821      0.412      -0.043       0.106\n",
       "pctbachdeg18_24           -0.5964      0.074     -8.020      0.000      -0.742      -0.451\n",
       "pctunemployed16_over       1.3693      0.114     11.980      0.000       1.145       1.593\n",
       "pctempprivcoverage         0.5955      0.048     12.281      0.000       0.500       0.691\n",
       "pctpubliccoverage         -3.3927      0.101    -33.628      0.000      -3.591      -3.195\n",
       "pctpubliccoveragealone     3.7012      0.131     28.273      0.000       3.445       3.958\n",
       "==============================================================================\n",
       "Omnibus:                      270.546   Durbin-Watson:                   1.675\n",
       "Prob(Omnibus):                  0.000   Jarque-Bera (JB):             1113.438\n",
       "Skew:                           0.352   Prob(JB):                    1.66e-242\n",
       "Kurtosis:                       5.877   Cond. No.                     9.93e+08\n",
       "==============================================================================\n",
       "\n",
       "Warnings:\n",
       "[1] Standard Errors assume that the covariance matrix of the errors is correctly specified.\n",
       "[2] The condition number is large, 9.93e+08. This might indicate that there are\n",
       "strong multicollinearity or other numerical problems.\n",
       "\"\"\""
      ]
     },
     "execution_count": 40,
     "metadata": {},
     "output_type": "execute_result"
    }
   ],
   "source": [
    "# statsmodels\n",
    "import statsmodels.api as sm\n",
    "lr = sm.OLS(dat_3['target_deathrate'], dat_3.drop(columns=['target_deathrate']), hasconst=False)\n",
    "result = lr.fit()\n",
    "result.summary()"
   ]
  },
  {
   "cell_type": "code",
   "execution_count": 19,
   "metadata": {},
   "outputs": [
    {
     "data": {
      "text/plain": [
       "0       10.191439\n",
       "1        3.014006\n",
       "2       23.560694\n",
       "3        4.081432\n",
       "4       -6.202897\n",
       "          ...    \n",
       "3042    -3.208737\n",
       "3043    -9.725868\n",
       "3044   -10.007167\n",
       "3045     4.350476\n",
       "3046    75.700640\n",
       "Length: 3047, dtype: float64"
      ]
     },
     "execution_count": 19,
     "metadata": {},
     "output_type": "execute_result"
    }
   ],
   "source": [
    "result.resid"
   ]
  },
  {
   "cell_type": "code",
   "execution_count": 41,
   "metadata": {},
   "outputs": [
    {
     "data": {
      "image/png": "[encoded data removed]",
      "text/plain": [
       "<Figure size 720x432 with 1 Axes>"
      ]
     },
     "metadata": {
      "needs_background": "light"
     },
     "output_type": "display_data"
    }
   ],
   "source": [
    "plt.figure(figsize=(10,6))\n",
    "import scipy.stats as stats\n",
    "mu = np.mean(result.resid)\n",
    "sigma = np.std(result.resid)\n",
    "pdf = stats.norm.pdf(sorted(result.resid), mu, sigma)\n",
    "plt.hist(result.resid, bins=50)\n",
    "plt.plot(sorted(result.resid), pdf, color='r', linewidth=2)\n",
    "plt.show()"
   ]
  },
  {
   "cell_type": "markdown",
   "metadata": {},
   "source": [
    "$\\rightarrow$ The distribution of the residuals is not perfectly normal. There is a small number of outliers to the left"
   ]
  },
  {
   "cell_type": "code",
   "execution_count": 23,
   "metadata": {},
   "outputs": [
    {
     "data": {
      "image/png": "[encoded data removed]",
      "text/plain": [
       "<Figure size 720x216 with 2 Axes>"
      ]
     },
     "metadata": {
      "needs_background": "light"
     },
     "output_type": "display_data"
    }
   ],
   "source": [
    "# QQplot\n",
    "fig, [ax1, ax2] = plt.subplots(1,2, figsize=(10,3))\n",
    "sm.qqplot(result.resid, stats.t, fit=True, line='45', ax = ax1)\n",
    "ax1.set_title(\"t distribution\")\n",
    "sm.qqplot(result.resid, stats.norm, fit=True, line='45', ax=ax2)\n",
    "ax2.set_title(\"normal distribution\")\n",
    "plt.show()"
   ]
  },
  {
   "cell_type": "markdown",
   "metadata": {},
   "source": [
    "$\\rightarrow$ The qqplots confirm that the residuals adhere more closely to the t- than normal distribution (fatter tails). A few prominent outliers are visible at the lower extreme."
   ]
  },
  {
   "cell_type": "code",
   "execution_count": 42,
   "metadata": {},
   "outputs": [
    {
     "name": "stderr",
     "output_type": "stream",
     "text": [
      "c:\\users\\siddharth\\appdata\\local\\programs\\python\\python38\\lib\\site-packages\\seaborn\\_decorators.py:36: FutureWarning: Pass the following variables as keyword args: x, y. From version 0.12, the only valid positional argument will be `data`, and passing other arguments without an explicit keyword will result in an error or misinterpretation.\n",
      "  warnings.warn(\n"
     ]
    },
    {
     "data": {
      "image/png": "[encoded data removed]",
      "text/plain": [
       "<Figure size 1008x504 with 1 Axes>"
      ]
     },
     "metadata": {
      "needs_background": "light"
     },
     "output_type": "display_data"
    },
    {
     "name": "stdout",
     "output_type": "stream",
     "text": [
      "Pearson R:  (0.8422087369520849, 0.0)\n"
     ]
    }
   ],
   "source": [
    "# plot predicted vs actual\n",
    "plt.figure(figsize=(14,7))\n",
    "sns.regplot(dat_3['target_deathrate'], result.fittedvalues, line_kws={'color':'r', 'alpha':0.3})\n",
    "plt.xlabel('Actual Values')\n",
    "plt.ylabel('Fitted Values')\n",
    "plt.show()\n",
    "print(\"Pearson R: \", stats.pearsonr(result.fittedvalues, dat_3['target_deathrate']))"
   ]
  },
  {
   "cell_type": "code",
   "execution_count": 43,
   "metadata": {},
   "outputs": [
    {
     "data": {
      "image/png": "[encoded data removed]",
      "text/plain": [
       "<Figure size 1008x504 with 1 Axes>"
      ]
     },
     "metadata": {
      "needs_background": "light"
     },
     "output_type": "display_data"
    },
    {
     "name": "stdout",
     "output_type": "stream",
     "text": [
      "Pearson R: (0.47742898588450505, 2.6964160451518757e-173)\n"
     ]
    }
   ],
   "source": [
    "# plot actual values versus residuals\n",
    "plt.figure(figsize=(14,7))\n",
    "plt.scatter(y=result.resid, x=dat_3['target_deathrate'])\n",
    "plt.axhline(y=0, color='r', linestyle=\"--\", alpha=0.5)\n",
    "plt.xlabel(\"Actual Values\")\n",
    "plt.ylabel(\"Residuals\")\n",
    "plt.ylim(-65, 50)\n",
    "plt.show()\n",
    "print(\"Pearson R:\", stats.pearsonr(dat_3['target_deathrate'], result.resid))"
   ]
  },
  {
   "cell_type": "markdown",
   "metadata": {},
   "source": [
    "This chart suggests that the model tends to somewhat overshoot lower values, and undershoot higher ones. In other words, the error isn't entirely random. The model is moderately biased toward the mean."
   ]
  },
  {
   "cell_type": "code",
   "execution_count": 44,
   "metadata": {},
   "outputs": [
    {
     "data": {
      "image/png": "[encoded data removed]",
      "text/plain": [
       "<Figure size 1008x504 with 1 Axes>"
      ]
     },
     "metadata": {
      "needs_background": "light"
     },
     "output_type": "display_data"
    }
   ],
   "source": [
    "# plot actual values versus residuals\n",
    "plt.figure(figsize=(14,7))\n",
    "plt.scatter(y=result.resid, x=result.fittedvalues)\n",
    "plt.axhline(y=0, color='r', linestyle=\"--\", alpha=0.5)\n",
    "plt.xlabel(\"Fitted Values\")\n",
    "plt.ylabel(\"Residuals\")\n",
    "plt.ylim(-65, 50)\n",
    "plt.show()"
   ]
  },
  {
   "cell_type": "markdown",
   "metadata": {},
   "source": [
    "1. Multicollinearity does not appear to be present.\n",
    "2. Parameters are statistically significant.\n",
    "3. The residuals adhere more closely to a t- than a normal distribution -- larger excess kurtosis and fatter tails.\n",
    "4. The fitted values tend to err in the negative direction (overestimate) actual values toward the lower extreme of the range, and the inverse for values toward the high end of the range.\n",
    "5. The R^2 is 0.708, meaning that the model accounts for 71% of the total observed variance in the model."
   ]
  },
  {
   "cell_type": "markdown",
   "metadata": {},
   "source": [
    "**Variation Inflation Factor for multicollinearity detection**"
   ]
  },
  {
   "cell_type": "code",
   "execution_count": 34,
   "metadata": {},
   "outputs": [],
   "source": [
    "# VIF for detecting multicollinearity. Variables with too high VIF have been removed and placed in dat_3 drop function\n",
    "from statsmodels.stats.outliers_influence import variance_inflation_factor"
   ]
  },
  {
   "cell_type": "code",
   "execution_count": 35,
   "metadata": {},
   "outputs": [
    {
     "data": {
      "text/html": [
       "<div>\n",
       "<style scoped>\n",
       "    .dataframe tbody tr th:only-of-type {\n",
       "        vertical-align: middle;\n",
       "    }\n",
       "\n",
       "    .dataframe tbody tr th {\n",
       "        vertical-align: top;\n",
       "    }\n",
       "\n",
       "    .dataframe thead th {\n",
       "        text-align: right;\n",
       "    }\n",
       "</style>\n",
       "<table border=\"1\" class=\"dataframe\">\n",
       "  <thead>\n",
       "    <tr style=\"text-align: right;\">\n",
       "      <th></th>\n",
       "      <th>Variable</th>\n",
       "      <th>VIF</th>\n",
       "    </tr>\n",
       "  </thead>\n",
       "  <tbody>\n",
       "    <tr>\n",
       "      <th>0</th>\n",
       "      <td>avganncount</td>\n",
       "      <td>1.126797</td>\n",
       "    </tr>\n",
       "    <tr>\n",
       "      <th>1</th>\n",
       "      <td>avgdeathsperyear</td>\n",
       "      <td>55.017801</td>\n",
       "    </tr>\n",
       "    <tr>\n",
       "      <th>2</th>\n",
       "      <td>incidencerate</td>\n",
       "      <td>83.447927</td>\n",
       "    </tr>\n",
       "    <tr>\n",
       "      <th>3</th>\n",
       "      <td>medincome</td>\n",
       "      <td>66.701144</td>\n",
       "    </tr>\n",
       "    <tr>\n",
       "      <th>4</th>\n",
       "      <td>popest2015</td>\n",
       "      <td>1.296280</td>\n",
       "    </tr>\n",
       "    <tr>\n",
       "      <th>5</th>\n",
       "      <td>povertypercent</td>\n",
       "      <td>30.178681</td>\n",
       "    </tr>\n",
       "    <tr>\n",
       "      <th>6</th>\n",
       "      <td>studypercap</td>\n",
       "      <td>1.111586</td>\n",
       "    </tr>\n",
       "    <tr>\n",
       "      <th>7</th>\n",
       "      <td>medianagemale</td>\n",
       "      <td>490.152227</td>\n",
       "    </tr>\n",
       "    <tr>\n",
       "      <th>8</th>\n",
       "      <td>medianagefemale</td>\n",
       "      <td>642.943675</td>\n",
       "    </tr>\n",
       "    <tr>\n",
       "      <th>9</th>\n",
       "      <td>pctnohs18_24</td>\n",
       "      <td>8.200403</td>\n",
       "    </tr>\n",
       "    <tr>\n",
       "      <th>10</th>\n",
       "      <td>pctbachdeg18_24</td>\n",
       "      <td>4.378104</td>\n",
       "    </tr>\n",
       "    <tr>\n",
       "      <th>11</th>\n",
       "      <td>pctunemployed16_over</td>\n",
       "      <td>13.097067</td>\n",
       "    </tr>\n",
       "    <tr>\n",
       "      <th>12</th>\n",
       "      <td>pctempprivcoverage</td>\n",
       "      <td>58.683326</td>\n",
       "    </tr>\n",
       "    <tr>\n",
       "      <th>13</th>\n",
       "      <td>pctpubliccoverage</td>\n",
       "      <td>397.959745</td>\n",
       "    </tr>\n",
       "    <tr>\n",
       "      <th>14</th>\n",
       "      <td>pctpubliccoveragealone</td>\n",
       "      <td>132.511850</td>\n",
       "    </tr>\n",
       "  </tbody>\n",
       "</table>\n",
       "</div>"
      ],
      "text/plain": [
       "                  Variable         VIF\n",
       "0              avganncount    1.126797\n",
       "1         avgdeathsperyear   55.017801\n",
       "2            incidencerate   83.447927\n",
       "3                medincome   66.701144\n",
       "4               popest2015    1.296280\n",
       "5           povertypercent   30.178681\n",
       "6              studypercap    1.111586\n",
       "7            medianagemale  490.152227\n",
       "8          medianagefemale  642.943675\n",
       "9             pctnohs18_24    8.200403\n",
       "10         pctbachdeg18_24    4.378104\n",
       "11    pctunemployed16_over   13.097067\n",
       "12      pctempprivcoverage   58.683326\n",
       "13       pctpubliccoverage  397.959745\n",
       "14  pctpubliccoveragealone  132.511850"
      ]
     },
     "execution_count": 35,
     "metadata": {},
     "output_type": "execute_result"
    }
   ],
   "source": [
    "tt = dat_3.drop(columns=['target_deathrate'])\n",
    "pd.DataFrame([[var, variance_inflation_factor(tt.values, tt.columns.get_loc(var))] for var in tt.columns],\n",
    "             index=range(tt.shape[1]), columns=['Variable', 'VIF'])"
   ]
  },
  {
   "cell_type": "code",
   "execution_count": 50,
   "metadata": {
    "code_folding": []
   },
   "outputs": [],
   "source": [
    "dat_4 = dat_3.drop(columns=[\n",
    "    'pctempprivcoverage',\n",
    "    'pctpubliccoveragealone'\n",
    "])\n",
    "train = dat_4\n",
    "test = dat_4.iloc[int(l * 0.80):]\n",
    "train_y = train['target_deathrate']\n",
    "train_x = train.drop(columns=['target_deathrate'], axis=1)"
   ]
  },
  {
   "cell_type": "code",
   "execution_count": 51,
   "metadata": {},
   "outputs": [
    {
     "data": {
      "text/html": [
       "<div>\n",
       "<style scoped>\n",
       "    .dataframe tbody tr th:only-of-type {\n",
       "        vertical-align: middle;\n",
       "    }\n",
       "\n",
       "    .dataframe tbody tr th {\n",
       "        vertical-align: top;\n",
       "    }\n",
       "\n",
       "    .dataframe thead th {\n",
       "        text-align: right;\n",
       "    }\n",
       "</style>\n",
       "<table border=\"1\" class=\"dataframe\">\n",
       "  <thead>\n",
       "    <tr style=\"text-align: right;\">\n",
       "      <th></th>\n",
       "      <th>Variable</th>\n",
       "      <th>VIF</th>\n",
       "    </tr>\n",
       "  </thead>\n",
       "  <tbody>\n",
       "    <tr>\n",
       "      <th>0</th>\n",
       "      <td>avganncount</td>\n",
       "      <td>1.123613</td>\n",
       "    </tr>\n",
       "    <tr>\n",
       "      <th>1</th>\n",
       "      <td>avgdeathsperyear</td>\n",
       "      <td>37.600024</td>\n",
       "    </tr>\n",
       "    <tr>\n",
       "      <th>2</th>\n",
       "      <td>incidencerate</td>\n",
       "      <td>68.161613</td>\n",
       "    </tr>\n",
       "    <tr>\n",
       "      <th>3</th>\n",
       "      <td>medincome</td>\n",
       "      <td>27.840574</td>\n",
       "    </tr>\n",
       "    <tr>\n",
       "      <th>4</th>\n",
       "      <td>popest2015</td>\n",
       "      <td>1.261348</td>\n",
       "    </tr>\n",
       "    <tr>\n",
       "      <th>5</th>\n",
       "      <td>povertypercent</td>\n",
       "      <td>25.151052</td>\n",
       "    </tr>\n",
       "    <tr>\n",
       "      <th>6</th>\n",
       "      <td>studypercap</td>\n",
       "      <td>1.103852</td>\n",
       "    </tr>\n",
       "    <tr>\n",
       "      <th>7</th>\n",
       "      <td>pctnohs18_24</td>\n",
       "      <td>7.649013</td>\n",
       "    </tr>\n",
       "    <tr>\n",
       "      <th>8</th>\n",
       "      <td>pctbachdeg18_24</td>\n",
       "      <td>4.324764</td>\n",
       "    </tr>\n",
       "    <tr>\n",
       "      <th>9</th>\n",
       "      <td>pctunemployed16_over</td>\n",
       "      <td>12.599446</td>\n",
       "    </tr>\n",
       "    <tr>\n",
       "      <th>10</th>\n",
       "      <td>pctpubliccoverage</td>\n",
       "      <td>76.650330</td>\n",
       "    </tr>\n",
       "  </tbody>\n",
       "</table>\n",
       "</div>"
      ],
      "text/plain": [
       "                Variable        VIF\n",
       "0            avganncount   1.123613\n",
       "1       avgdeathsperyear  37.600024\n",
       "2          incidencerate  68.161613\n",
       "3              medincome  27.840574\n",
       "4             popest2015   1.261348\n",
       "5         povertypercent  25.151052\n",
       "6            studypercap   1.103852\n",
       "7           pctnohs18_24   7.649013\n",
       "8        pctbachdeg18_24   4.324764\n",
       "9   pctunemployed16_over  12.599446\n",
       "10     pctpubliccoverage  76.650330"
      ]
     },
     "execution_count": 51,
     "metadata": {},
     "output_type": "execute_result"
    }
   ],
   "source": [
    "pd.DataFrame([[var, variance_inflation_factor(train_x.values, train_x.columns.get_loc(var))] for var in train_x.columns],\n",
    "             index=range(train_x.shape[1]), columns=['Variable', 'VIF'])"
   ]
  }
 ],
 "metadata": {
  "kernelspec": {
   "display_name": "Python 3",
   "language": "python",
   "name": "python3"
  },
  "language_info": {
   "codemirror_mode": {
    "name": "ipython",
    "version": 3
   },
   "file_extension": ".py",
   "mimetype": "text/x-python",
   "name": "python",
   "nbconvert_exporter": "python",
   "pygments_lexer": "ipython3",
   "version": "3.8.2"
  },
  "toc": {
   "base_numbering": 1,
   "nav_menu": {},
   "number_sections": true,
   "sideBar": true,
   "skip_h1_title": false,
   "title_cell": "Table of Contents",
   "title_sidebar": "Contents",
   "toc_cell": false,
   "toc_position": {
    "height": "551.2px",
    "left": "23px",
    "top": "204.8px",
    "width": "307.2px"
   },
   "toc_section_display": true,
   "toc_window_display": false
  },
  "varInspector": {
   "cols": {
    "lenName": 16,
    "lenType": 16,
    "lenVar": 40
   },
   "kernels_config": {
    "python": {
     "delete_cmd_postfix": "",
     "delete_cmd_prefix": "del ",
     "library": "var_list.py",
     "varRefreshCmd": "print(var_dic_list())"
    },
    "r": {
     "delete_cmd_postfix": ") ",
     "delete_cmd_prefix": "rm(",
     "library": "var_list.r",
     "varRefreshCmd": "cat(var_dic_list()) "
    }
   },
   "types_to_exclude": [
    "module",
    "function",
    "builtin_function_or_method",
    "instance",
    "_Feature"
   ],
   "window_display": false
  }
 },
 "nbformat": 4,
 "nbformat_minor": 4
}
